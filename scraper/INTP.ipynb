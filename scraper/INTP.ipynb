{
 "cells": [
  {
   "cell_type": "code",
   "execution_count": 1,
   "metadata": {},
   "outputs": [
    {
     "name": "stderr",
     "output_type": "stream",
     "text": [
      "100%|██████████| 2856/2856 [2:29:43<00:00,  1.21s/it]  \n",
      "100%|██████████| 887/887 [21:23<00:00,  1.00s/it]\n",
      "100%|██████████| 864/864 [21:30<00:00,  1.04it/s]\n"
     ]
    }
   ],
   "source": [
    "from bs4 import BeautifulSoup\n",
    "from urllib.request import urlopen, Request\n",
    "from tqdm import tqdm\n",
    "from time import sleep\n",
    "\n",
    "HEADERS = {'user-agent': ('Mozilla/5.0 (Macintosh; Intel Mac OS X 10_10_5)'\n",
    "                          'AppleWebKit/537.36 (KHTML, like Gecko)'\n",
    "                          'Chrome/45.0.2454.101 Safari/537.36'),\n",
    "                          'referer': 'http://www.google.com'}\n",
    "f = open(\"INTP.txt\", \"a+\")\n",
    "#change this\n",
    "\n",
    "urls=['https://www.personalitycafe.com/intp-forum-thinkers/41079-your-current-random-intp-thought-',\n",
    "     'https://www.personalitycafe.com/intp-forum-thinkers/33466-confessions-intp-',\n",
    "     'https://www.personalitycafe.com/intp-forum-thinkers/64778-stream-conscious-venting-thread-intps-']\n",
    "#change this\n",
    "\n",
    "num_pages = [2856, 887, 864]\n",
    "#change this\n",
    "\n",
    "for url_num in range(3): #change this\n",
    "    for i in tqdm(range(num_pages[url_num])):\n",
    "        req = Request(url=urls[url_num] + str(i+1) + '.html', headers=HEADERS)\n",
    "        page = urlopen(req)\n",
    "        soup = BeautifulSoup(page, 'html.parser')\n",
    "\n",
    "        doc = \"\"\n",
    "        for p_tag in soup.find_all('blockquote','restore'):\n",
    "            para = p_tag.text.strip()\n",
    "            if len(para)==0:\n",
    "                continue\n",
    "            doc += para + '\\n'\n",
    "\n",
    "        try:\n",
    "            f.write(doc)\n",
    "        except:\n",
    "            continue\n",
    "    "
   ]
  },
  {
   "cell_type": "code",
   "execution_count": null,
   "metadata": {},
   "outputs": [],
   "source": []
  }
 ],
 "metadata": {
  "kernelspec": {
   "display_name": "Python 3",
   "language": "python",
   "name": "python3"
  },
  "language_info": {
   "codemirror_mode": {
    "name": "ipython",
    "version": 3
   },
   "file_extension": ".py",
   "mimetype": "text/x-python",
   "name": "python",
   "nbconvert_exporter": "python",
   "pygments_lexer": "ipython3",
   "version": "3.6.5"
  }
 },
 "nbformat": 4,
 "nbformat_minor": 2
}
