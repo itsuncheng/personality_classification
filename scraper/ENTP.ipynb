{
 "cells": [
  {
   "cell_type": "code",
   "execution_count": 1,
   "metadata": {},
   "outputs": [
    {
     "name": "stderr",
     "output_type": "stream",
     "text": [
      "100%|██████████| 430/430 [52:07<00:00, 10.94s/it]  \n",
      "100%|██████████| 285/285 [36:45<00:00,  9.27s/it]  \n",
      "100%|██████████| 545/545 [19:22<00:00,  1.25s/it] \n",
      "100%|██████████| 619/619 [13:18<00:00,  1.20s/it]\n",
      "100%|██████████| 338/338 [07:26<00:00,  1.01s/it]\n"
     ]
    }
   ],
   "source": [
    "from bs4 import BeautifulSoup\n",
    "from urllib.request import urlopen, Request\n",
    "from tqdm import tqdm\n",
    "from time import sleep\n",
    "\n",
    "HEADERS = {'user-agent': ('Mozilla/5.0 (Macintosh; Intel Mac OS X 10_10_5)'\n",
    "                          'AppleWebKit/537.36 (KHTML, like Gecko)'\n",
    "                          'Chrome/45.0.2454.101 Safari/537.36'),\n",
    "                          'referer': 'http://www.google.com'}\n",
    "f = open(\"ENTP.txt\", \"a+\")\n",
    "#change this\n",
    "\n",
    "urls=['https://www.personalitycafe.com/entp-forum-visionaries/103491-ask-entp-question-get-sarcastic-answer-',\n",
    "     'https://www.personalitycafe.com/entp-forum-visionaries/168210-entp-ideas-stream-consciousness-thread-',\n",
    "     'https://www.personalitycafe.com/entp-forum-visionaries/10674-you-know-youre-entp-when-',\n",
    "     'https://www.personalitycafe.com/entp-forum-visionaries/130242-ask-entps-relationship-questions-',\n",
    "     'https://www.personalitycafe.com/entp-forum-visionaries/56580-confession-thread-']\n",
    "#change this\n",
    "\n",
    "num_pages = [430, 285, 545, 619, 338]\n",
    "#change this\n",
    "\n",
    "for url_num in range(5): #change this\n",
    "    for i in tqdm(range(num_pages[url_num])):\n",
    "        req = Request(url=urls[url_num] + str(i+1) + '.html', headers=HEADERS)\n",
    "        page = urlopen(req)\n",
    "        soup = BeautifulSoup(page, 'html.parser')\n",
    "\n",
    "        doc = \"\"\n",
    "        for p_tag in soup.find_all('blockquote','restore'):\n",
    "            para = p_tag.text.strip()\n",
    "            if len(para)==0:\n",
    "                continue\n",
    "            doc += para + '\\n'\n",
    "\n",
    "        try:\n",
    "            f.write(doc)\n",
    "        except:\n",
    "            continue\n",
    "    "
   ]
  },
  {
   "cell_type": "code",
   "execution_count": null,
   "metadata": {},
   "outputs": [],
   "source": []
  }
 ],
 "metadata": {
  "kernelspec": {
   "display_name": "Python 3",
   "language": "python",
   "name": "python3"
  },
  "language_info": {
   "codemirror_mode": {
    "name": "ipython",
    "version": 3
   },
   "file_extension": ".py",
   "mimetype": "text/x-python",
   "name": "python",
   "nbconvert_exporter": "python",
   "pygments_lexer": "ipython3",
   "version": "3.6.5"
  }
 },
 "nbformat": 4,
 "nbformat_minor": 2
}
