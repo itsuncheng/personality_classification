{
 "cells": [
  {
   "cell_type": "code",
   "execution_count": 1,
   "metadata": {},
   "outputs": [
    {
     "name": "stderr",
     "output_type": "stream",
     "text": [
      "100%|██████████| 110/110 [13:08<00:00,  6.45s/it]\n",
      "100%|██████████| 131/131 [17:40<00:00,  6.70s/it]\n",
      "100%|██████████| 123/123 [12:53<00:00,  5.45s/it]\n"
     ]
    }
   ],
   "source": [
    "from bs4 import BeautifulSoup\n",
    "from urllib.request import urlopen, Request\n",
    "from tqdm import tqdm\n",
    "from time import sleep\n",
    "\n",
    "HEADERS = {'user-agent': ('Mozilla/5.0 (Macintosh; Intel Mac OS X 10_10_5)'\n",
    "                          'AppleWebKit/537.36 (KHTML, like Gecko)'\n",
    "                          'Chrome/45.0.2454.101 Safari/537.36'),\n",
    "                          'referer': 'http://www.google.com'}\n",
    "f = open(\"ISFJ.txt\", \"a+\")\n",
    "\n",
    "urls=['https://www.personalitycafe.com/isfj-forum-nurturers/25007-you-know-youre-isfj-when-',\n",
    "     'https://www.personalitycafe.com/isfj-forum-nurturers/257642-ask-isfj-question-',\n",
    "     'https://www.personalitycafe.com/isfj-forum-nurturers/100939-stream-consciousness-thread-']\n",
    "\n",
    "num_pages = [110, 131, 123]\n",
    "\n",
    "for url_num in range(3):\n",
    "    for i in tqdm(range(num_pages[url_num])):\n",
    "        req = Request(url=urls[url_num] + str(i+1) + '.html', headers=HEADERS)\n",
    "        page = urlopen(req)\n",
    "        soup = BeautifulSoup(page, 'html.parser')\n",
    "\n",
    "        doc = \"\"\n",
    "        for p_tag in soup.find_all('blockquote','restore'):\n",
    "            para = p_tag.text.strip()\n",
    "            if len(para)==0:\n",
    "                continue\n",
    "            doc += para + '\\n'\n",
    "\n",
    "        try:\n",
    "            f.write(doc)\n",
    "        except:\n",
    "            continue\n",
    "    "
   ]
  },
  {
   "cell_type": "code",
   "execution_count": null,
   "metadata": {},
   "outputs": [],
   "source": []
  }
 ],
 "metadata": {
  "kernelspec": {
   "display_name": "Python 3",
   "language": "python",
   "name": "python3"
  },
  "language_info": {
   "codemirror_mode": {
    "name": "ipython",
    "version": 3
   },
   "file_extension": ".py",
   "mimetype": "text/x-python",
   "name": "python",
   "nbconvert_exporter": "python",
   "pygments_lexer": "ipython3",
   "version": "3.6.5"
  }
 },
 "nbformat": 4,
 "nbformat_minor": 2
}
